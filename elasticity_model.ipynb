{
 "cells": [
  {
   "cell_type": "markdown",
   "metadata": {},
   "source": [
    "# Price Elasticity\n",
    "\n",
    "The price elasticity of a product is defined as the relative change in demand divided by the relative change in price. In other words, we want to know how much demand changes as the price varies. The exact mathematical formula is given by:\n",
    "\n",
    "<font size=\"5\">$\\varepsilon$= $ \\frac{dQ/Q}{dP/P}= \\frac{dQ}{dP} \\frac{P}{Q} $</font>\n",
    "\n",
    "\n",
    "In general, we expect the demand to decrease as the price increases. Therefore, the elasticity is almost always negative.\n",
    "\n",
    "<img src=\"./diagram_elasticity.png\" width= '400'>\n",
    "\n",
    "\n",
    "In practice, calculating the derivative would be difficult as we do not have quantity as a function of price. For this reason, we resort to the so-called arc elasticity, where we approximate the derivative term. For this approximation, we need two points in demand and price, as shown in the following figure: \n",
    "\n",
    "<img src=\"./arc elasticity.png\" width= '500'>\n",
    "\n",
    "The point price and point demands are also both approximated as the averages the two prices and demands respectively. Mathematically, arc elasticity is defined as: \n",
    "\n",
    "<font size=\"5\">$\\varepsilon_{arc}=  \\frac{\\Delta Q}{\\Delta P} \\frac{\\bar P}{\\bar Q}= \\frac{Q_{2}-Q_{1}}{P_{2}-P_{1}} \\frac{ (P_{2}+P_{1})/2}{(Q_{2}+Q_{1})/2} = \\frac{Q_{2}-Q_{1}}{P_{2}-P_{1}} \\frac{ P_{2}+P_{1}}{Q_{2}+Q_{1}}  $</font>\n",
    "\n",
    "## Problem we want to solve\n",
    "\n",
    "What we have is the daily sales of different products. Normally if we change the price for a product, so does the average sale for that product. This can be shown in the following figure. \n",
    "\n",
    "<img src=\"./sales_sample.png\" width= '600'>\n",
    "\n",
    "This is a computer generated data. However, the real data more or less imitates such a behavior. The price of this product was $P_{1}$ until 40 days, and it increased to $P_{2}$ afterwards. \n",
    "\n",
    "To generate this data, we assumed a poisson distribution with a parameter of $\\lambda= 10$ for the first 40 days and then another poisson distribution with $ \\lambda= 7$. Later we will explain why a poisson distribution suits our use-case.\n",
    "\n",
    "Elasticity is a function itself, and that means it depends on the point with a specific price and demand. This is clear from the original formula we discussed above. It goes without saying that we are NOT trying to calculate the elasticity function, as we only have two prices. We can only calculate the elasticity at a certain point. This point can be considered as the average of the two prices and therefore we could use arc-elasticity.\n",
    "\n",
    "In the example above, we increased the price of the product and we could see that the sales would decrease. It would be easy to calculate the arc elasticity in this example. \n",
    "\n",
    "As discussed before, the arc elasticity is given by this formula: \n",
    "\n",
    "<font size=\"5\">$\\varepsilon_{arc}=  \\frac{Q_{2}-Q_{1}}{P_{2}-P_{1}} \\frac{ P_{2}+P_{1}}{Q_{2}+Q_{1}}  $</font>\n",
    "\n",
    "We can change this formula a little bit and say:\n",
    "\n",
    "\n",
    "<font size=\"5\">$\\varepsilon_{arc}=  \\frac{Q_{2}-Q_{1}}{Q_{2}+Q_{1}} \\frac{ 1}{  \\frac{P_{2}-P_{1}} { P_{2}+P_{1} }  }= \\frac{Q_{2}-Q_{1}}{Q_{2}+Q_{1}} \\frac{ 1}{  \\frac{\\Delta P} { 2(P_{2}+P_{1})/2 }  }  $</font>\n",
    "\n",
    "If we take <font size=\"5\">$ \\frac{\\Delta P} { (P_{2}+P_{1})/2 } \\equiv \\Delta P  $</font>, then we have: \n",
    "\n",
    "<font size=\"5\">$\\varepsilon_{arc}=  \\frac{Q_{2}-Q_{1}}{Q_{2}+Q_{1}} \\frac{ 1}{  \\Delta P/2 } $</font>\n"
   ]
  },
  {
   "cell_type": "markdown",
   "metadata": {},
   "source": [
    "Now, in order to calculate elasticity we need to approximate the demands. We already have $\\Delta P$ as we know how much we changed the price. We just need to compute $Q_{2}$ and $Q_{1}$!<br>\n",
    "\n",
    "As we know, $Q_{2}$ is the amount of the demand in the second period. We could say that $Q_{2}$ can be calculated as: <br>\n",
    "\n",
    "$Q_{2}= \\lambda_{2} N_{2}$, where $\\lambda_{2}$ is the average number of sales in the second period and $N_{2}$ is the total number of days. In the same way we have: <br>\n",
    "$Q_{1}= \\lambda_{1} N_{1}$ \n",
    "\n",
    "<font size=\"5\">$\\varepsilon_{arc}=  \\frac{\\lambda_{2}N_{2}- \\lambda_{1}N_{1} }{ \\lambda_{2}N_{2} + \\lambda_{1}N_{1}} \\frac{ 1}{  \\Delta P/2 } $</font>\n"
   ]
  },
  {
   "cell_type": "markdown",
   "metadata": {},
   "source": [
    "So we can calculate the elasticity once we have the $\\lambda$ parameters. For doing so, we have to assume a probability distribution for our data. Since we are dealing with sales data (number of sales per day) and these sales numbers are integers, we could model them as a Poisson distribution. In each day, the number of sales can be esimated based on a probability distribution which is given by:\n",
    "\n",
    "\n",
    "$X_{i}:$ number of sales on day $i$<br>\n",
    "<font size=\"5\"> $Pr(X_{i}= k)= \\frac {\\lambda_{i}^k e^{-\\lambda_{i}} } {k!}$ </font>"
   ]
  },
  {
   "cell_type": "markdown",
   "metadata": {},
   "source": [
    "In this formula, $\\lambda_{i}$ is the Poisson parameter for day i.\n",
    "\n",
    "However, we have more than one day. Indeed, we are dealing with a discrete andom process. A random process is a collection of different random variables which occur one after another in time. \n",
    "\n",
    "We can define our random process as: \n",
    "\n",
    "$X= X_{1} + X_{1} + ... + X_{n} $\n",
    "\n",
    "$X$ will give us the total number of sales bother before and after price change, we if take $n= N_{1}$ or $n= N_{2}$ respectively.\n"
   ]
  },
  {
   "cell_type": "markdown",
   "metadata": {},
   "source": [
    "Provided that all the sales per days are independent random variables, it can be proved that X will follow a Poisson distribution as well. If the Poisson parameters of each random variable are given by $\\lambda_{1}, \\lambda_{2}, ..., \\lambda_{n}$, then the Poisson parameter for X is given by:<br>\n",
    "\n",
    "$\\lambda= \\lambda_{1} + \\lambda_{2} + ... \\lambda_{n} $ <br>\n",
    "\n",
    "**Note:** Our independence assumption can be challenged, as the number of sales on a day generally depends on the day of the week, and that also depends on which day yesterday was. So for example, if the mumber of sales on Sunday for a product is high, then we expect the number of sales for Monday drop, as people start their week and have less time for online shopping! <br>\n",
    "However, this can be later on investigated!"
   ]
  },
  {
   "cell_type": "markdown",
   "metadata": {},
   "source": [
    "## Finding $\\lambda$\n",
    "\n",
    "Now that we have modelled our data with a Poisson random process, we have to find these parameters.\n",
    "\n",
    "Generally, we have two random process. One random process before we apply the price change, which we define as $X_{1} \\sim Poisson(\\lambda_{1})$. Please pay attention that $\\lambda_{1}$ here is the parameter for the first random process not for the random variable one day 1. <br>\n",
    "Also, the second random process can be defined as $X_{2} \\sim Poisson(\\lambda_{2})$\n",
    "\n",
    "$Pr(X_{1} = k_{1} | \\lambda_{1})$ is equal to the total number of sales before price change<br>\n",
    "$Pr(X_{2} = k_{2} | \\lambda_{2})$ is equal to the total number of sales after price change \n",
    "\n",
    "\n",
    "In order to estimate $\\lambda_{1}$ and $\\lambda_{2}$, consider the product of both probabilities:<br>\n",
    "$Pr(X_{1} = k_{1} | \\lambda_{1})Pr(X_{2} = k_{2} | \\lambda_{2})$\n",
    "\n",
    "\n",
    "Let us take: $\\lambda_{2}= \\alpha \\lambda_{1}$. Therefore, we have:\n",
    "\n",
    "$Pr(X_{1} = k_{1} | \\lambda_{1})Pr(X_{2} = k_{2} | \\alpha\\lambda_{1})$\n",
    "\n",
    "The expression on the right only depends on $\\lambda_{1}$. Both $k_{1}$ and $k_{2}$ are fixed."
   ]
  },
  {
   "cell_type": "markdown",
   "metadata": {},
   "source": [
    "Obvioulsy the second process is not independent of the first process. It depends on it, and also on the amount of price change, however the rest of the product features remain the same.\n",
    "\n",
    "\n",
    "**Question 1**<br>\n",
    "What is the interpretation of $Pr(X_{1} = k_{1} | \\lambda_{1})Pr(X_{2} = k_{2} | \\lambda_{2})$ ?\n",
    "\n",
    "We can't say it is $Pr(X_{1}= k_{1}, X_{2}= k_{2})$ as this joint probability can ONLY use the product rule if $X_{1}$ and $X_{2}$ are independent of each other. However, as we mentioned above, they are not. \n",
    "\n",
    "So it remains to interpret the above product of probabilities!\n",
    "\n",
    "**Question 2**<br>\n",
    "We take: $Pr(k_{1}, k_{2}|\\alpha)= \\int_{0}^{\\infty} Pr(X_{1} = k_{1} | \\lambda_{1})Pr(X_{2} = k_{2} | \\alpha\\lambda_{1}) Pr(\\lambda_{1}) d\\lambda_{1}$<br>\n",
    "Why do we marginalize the above probability $Pr(X_{1} = k_{1} | \\lambda_{1})Pr(X_{2} = k_{2} | \\alpha\\lambda_{1})$ over $\\lambda_{1}$? What is the interpretation of it?\n",
    "\n",
    "**Question 3**<br>\n",
    "After marginalizing, how do we know whether the resulted $Pr(k_{1}, k_{2}|\\alpha)$ is also a probability distribution? i.e. it sums to 1?\n",
    "\n",
    "And why do we want to maximize it? Based on which rule? In the beginning I thought it is MLE, however it can't be MLE because MLE uses data to fit the parameters. Here we are not using data!"
   ]
  },
  {
   "cell_type": "code",
   "execution_count": null,
   "metadata": {},
   "outputs": [],
   "source": []
  }
 ],
 "metadata": {
  "kernelspec": {
   "display_name": "Python 3",
   "language": "python",
   "name": "python3"
  },
  "language_info": {
   "codemirror_mode": {
    "name": "ipython",
    "version": 3
   },
   "file_extension": ".py",
   "mimetype": "text/x-python",
   "name": "python",
   "nbconvert_exporter": "python",
   "pygments_lexer": "ipython3",
   "version": "3.8.3"
  }
 },
 "nbformat": 4,
 "nbformat_minor": 4
}
